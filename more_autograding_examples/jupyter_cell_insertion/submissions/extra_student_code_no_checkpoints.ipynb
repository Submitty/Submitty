{
 "cells": [
  {
   "cell_type": "markdown",
   "id": "3a616873-3868-44c7-9a70-d38743a8b9df",
   "metadata": {},
   "source": [
    "## 1. Add two numbers"
   ]
  },
  {
   "cell_type": "code",
   "execution_count": null,
   "id": "9f80fc9b-5113-4012-ac95-48328415d99e",
   "metadata": {},
   "outputs": [],
   "source": [
    "# ASSIGNMENT: Fill out the function below to add two numbers.\n",
    "def add_two_numbers(a, b):\n",
    "    return a + b"
   ]
  },
  {
   "cell_type": "code",
   "execution_count": null,
   "id": "f42e4fd5-803e-4496-9ff7-fca3d3f8f710",
   "metadata": {},
   "outputs": [],
   "source": [
    "# Mock Student Testing Code\n",
    "print(add_two_numbers(-2, 1))\n",
    "print(add_two_numbers(3, 7))\n",
    "print(add_two_numbers(0, 0))\n",
    "print(add_two_numbers(550, -550))"
   ]
  },
  {
   "cell_type": "markdown",
   "id": "f6eba2dd-8633-4260-b5d0-8408b23cc266",
   "metadata": {},
   "source": [
    "## 2. Create an array"
   ]
  },
  {
   "cell_type": "code",
   "execution_count": null,
   "id": "a9984966-ce2f-4fc0-8699-4e7534be19e9",
   "metadata": {},
   "outputs": [],
   "source": [
    "import numpy as np\n",
    "\n",
    "# ASSIGNMENT: Create a 2x3 NumPy array with values from 0 to 5\n",
    "arr = np.arange(6).reshape(2, 3)"
   ]
  },
  {
   "cell_type": "code",
   "execution_count": null,
   "id": "f0b52283-439a-4479-a884-5662f2c0fc83",
   "metadata": {},
   "outputs": [],
   "source": [
    "# Mock Student Testing Code\n",
    "print(arr)"
   ]
  },
  {
   "cell_type": "markdown",
   "id": "325c1b10-88c8-4d42-9070-6e727ecabe24",
   "metadata": {},
   "source": [
    "## 3. Complete the BankAccount class"
   ]
  },
  {
   "cell_type": "code",
   "execution_count": null,
   "id": "e5be6631-a7d3-4107-880f-ec11f1e39c09",
   "metadata": {},
   "outputs": [],
   "source": [
    "# ASSIGNMENT: Implement a simple bank account class with deposit and withdraw methods.\n",
    "class BankAccount:\n",
    "    def __init__(self, initial_balance=0):\n",
    "        self.balance = initial_balance\n",
    "\n",
    "    def deposit(self, amount):\n",
    "        # YOUR CODE HERE\n",
    "        if amount > 0:\n",
    "            self.balance += amount\n",
    "\n",
    "    def withdraw(self, amount):\n",
    "        # YOUR CODE HERE\n",
    "        if 0 < amount <= self.balance:\n",
    "            self.balance -= amount"
   ]
  },
  {
   "cell_type": "code",
   "execution_count": null,
   "id": "834020b3-69fc-4648-be7d-f0c62ac56801",
   "metadata": {},
   "outputs": [],
   "source": [
    "# Mock Student Testing Code\n",
    "student_account = BankAccount(201)\n",
    "student_account.withdraw(202)\n",
    "print(student_account)\n",
    "student_account.withdraw(201)\n",
    "print(student_account)\n",
    "student_account.deposit(-1000)\n",
    "print(student_account)\n",
    "student_account.withdraw(-1000)"
   ]
  }
 ],
 "metadata": {
  "kernelspec": {
   "display_name": "Python 3 (ipykernel)",
   "language": "python",
   "name": "python3"
  },
  "language_info": {
   "codemirror_mode": {
    "name": "ipython",
    "version": 3
   },
   "file_extension": ".py",
   "mimetype": "text/x-python",
   "name": "python",
   "nbconvert_exporter": "python",
   "pygments_lexer": "ipython3",
   "version": "3.11.9"
  }
 },
 "nbformat": 4,
 "nbformat_minor": 5
}
