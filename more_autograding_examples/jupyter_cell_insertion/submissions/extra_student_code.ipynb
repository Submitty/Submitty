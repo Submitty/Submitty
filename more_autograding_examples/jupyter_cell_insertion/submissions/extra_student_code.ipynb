{
 "cells": [
  {
   "cell_type": "markdown",
   "id": "3a616873-3868-44c7-9a70-d38743a8b9df",
   "metadata": {},
   "source": [
    "## 1. Add two numbers"
   ]
  },
  {
   "cell_type": "code",
   "execution_count": null,
   "id": "9f80fc9b-5113-4012-ac95-48328415d99e",
   "metadata": {},
   "outputs": [],
   "source": [
    "# ASSIGNMENT: Fill out the function below to add two numbers.\n",
    "def add_two_numbers(a, b):\n",
    "    return a + b"
   ]
  },
  {
   "cell_type": "code",
   "execution_count": null,
   "id": "f42e4fd5-803e-4496-9ff7-fca3d3f8f710",
   "metadata": {},
   "outputs": [],
   "source": [
    "# Mock Student Testing Code\n",
    "print(add_two_numbers(-2, 1))\n",
    "print(add_two_numbers(3, 7))\n",
    "print(add_two_numbers(0, 0))\n",
    "print(add_two_numbers(550, -550))"
   ]
  },
  {
   "cell_type": "code",
   "execution_count": null,
   "id": "5823ab49-9052-4c56-a642-634d594f75e9",
   "metadata": {
    "submitty_id": "checkpoint1"
   },
   "outputs": [],
   "source": [
    "# Checkpoint 1: Test cases for the add_two_numbers function\n",
    "answers = []\n",
    "answers.append(add_two_numbers(2, 3))\n",
    "answers.append(add_two_numbers(-1, 1))\n",
    "answers.append(add_two_numbers(0, 0))\n",
    "answers.append(add_two_numbers(100, 200))\n",
    "answers.append(add_two_numbers(-5, -5))\n",
    "\n",
    "print(answers)"
   ]
  },
  {
   "cell_type": "markdown",
   "id": "f6eba2dd-8633-4260-b5d0-8408b23cc266",
   "metadata": {},
   "source": [
    "## 2. Create an array"
   ]
  },
  {
   "cell_type": "code",
   "execution_count": null,
   "id": "a9984966-ce2f-4fc0-8699-4e7534be19e9",
   "metadata": {},
   "outputs": [],
   "source": [
    "import numpy as np\n",
    "\n",
    "# ASSIGNMENT: Create a 2x3 NumPy array with values from 0 to 5\n",
    "arr = np.arange(6).reshape(2, 3)"
   ]
  },
  {
   "cell_type": "code",
   "execution_count": null,
   "id": "f0b52283-439a-4479-a884-5662f2c0fc83",
   "metadata": {},
   "outputs": [],
   "source": [
    "print(arr)"
   ]
  },
  {
   "cell_type": "code",
   "execution_count": null,
   "id": "4417fb0a-741d-47fd-8173-1460ba26cfb3",
   "metadata": {
    "submitty_id": "checkpoint2"
   },
   "outputs": [],
   "source": [
    "# Checkpoint 2: Test cases for the NumPy array\n",
    "import numpy as np\n",
    "assert arr.shape == (2, 3), \"Test case failed: Array shape should be (2, 3)\"\n",
    "assert np.array_equal(arr, np.array([[0, 1, 2], [3, 4, 5]])), \"Test case failed: Array values do not match expected values\""
   ]
  },
  {
   "cell_type": "markdown",
   "id": "325c1b10-88c8-4d42-9070-6e727ecabe24",
   "metadata": {},
   "source": [
    "## 3. Complete the BankAccount class"
   ]
  },
  {
   "cell_type": "code",
   "execution_count": null,
   "id": "e5be6631-a7d3-4107-880f-ec11f1e39c09",
   "metadata": {},
   "outputs": [],
   "source": [
    "# ASSIGNMENT: Implement a simple bank account class with deposit and withdraw methods.\n",
    "class BankAccount:\n",
    "    def __init__(self, initial_balance=0):\n",
    "        self.balance = initial_balance\n",
    "\n",
    "    def deposit(self, amount):\n",
    "        # YOUR CODE HERE\n",
    "        if amount > 0:\n",
    "            self.balance += amount\n",
    "\n",
    "    def withdraw(self, amount):\n",
    "        # YOUR CODE HERE\n",
    "        if 0 < amount <= self.balance:\n",
    "            self.balance -= amount"
   ]
  },
  {
   "cell_type": "code",
   "execution_count": null,
   "id": "834020b3-69fc-4648-be7d-f0c62ac56801",
   "metadata": {},
   "outputs": [],
   "source": [
    "student_account = BankAccount(201)\n",
    "student_account.withdraw(202)\n",
    "print(student_account)\n",
    "student_account.withdraw(201)\n",
    "print(student_account)\n",
    "student_account.deposit(-1000)\n",
    "print(student_account)\n",
    "student_account.withdraw(-1000)"
   ]
  },
  {
   "cell_type": "code",
   "execution_count": null,
   "id": "a5913177-3c63-4eca-bd36-532fdfe190df",
   "metadata": {
    "submitty_id": "checkpoint3_initialization"
   },
   "outputs": [],
   "source": [
    "# Checkpoint 3: Initialization Test\n",
    "account = BankAccount(0)\n",
    "print(f\"Account 1 Balance: {account.balance}\")\n",
    "\n",
    "account2 = BankAccount(100)\n",
    "print(f\"Account 2 Balance: {account2.balance}\")"
   ]
  },
  {
   "cell_type": "code",
   "execution_count": null,
   "id": "e82588a1-1fff-419a-bc9b-da0e830a1ee0",
   "metadata": {
    "submitty_id": "checkpoint3_deposit"
   },
   "outputs": [],
   "source": [
    "# Checkpoint 3: Deposit Tests\n",
    "account.deposit(150)\n",
    "print(f\"Current Balance: {account.balance}. Balance should be 150 after depositing 150\")\n",
    "account.deposit(-10)\n",
    "print(f\"Current Balance: {account.balance}. Balance should remain 150 after trying to deposit negative amounts\")\n",
    "account.deposit(0)\n",
    "print(f\"Current Balance: {account.balance}. Balance should remain 150 after trying to deposit zero\")"
   ]
  },
  {
   "cell_type": "code",
   "execution_count": null,
   "id": "d62b1e63-908d-4594-964a-fbd929f6b0d6",
   "metadata": {
    "submitty_id": "checkpoint3_withdrawal"
   },
   "outputs": [],
   "source": [
    "# Checkpoint 3: Withdrawal Tests\n",
    "account2.withdraw(50)\n",
    "print(f\"Current Balance: {account.balance}. Balance should be 50 after withdrawing 50\")\n",
    "account.withdraw(200)\n",
    "print(f\"Current Balance: {account.balance}. Balance should remain 50 after trying to withdraw more than available\")\n",
    "account.withdraw(0)\n",
    "print(f\"Current Balance: {account.balance}. Balance should remain 50 after trying to withdraw nothing\")\n",
    "account.withdraw(50)\n",
    "print(f\"Current Balance: {account.balance}. Balance should be 0 after withdrawing 50\")"
   ]
  }
 ],
 "metadata": {
  "kernelspec": {
   "display_name": "Python 3 (ipykernel)",
   "language": "python",
   "name": "python3"
  },
  "language_info": {
   "codemirror_mode": {
    "name": "ipython",
    "version": 3
   },
   "file_extension": ".py",
   "mimetype": "text/x-python",
   "name": "python",
   "nbconvert_exporter": "python",
   "pygments_lexer": "ipython3",
   "version": "3.11.9"
  }
 },
 "nbformat": 4,
 "nbformat_minor": 5
}
