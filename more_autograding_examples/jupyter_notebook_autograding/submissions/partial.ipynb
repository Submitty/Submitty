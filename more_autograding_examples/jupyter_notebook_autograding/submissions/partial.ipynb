{
 "cells": [
  {
   "cell_type": "markdown",
   "metadata": {},
   "source": [
    "## 1. Print 'hello world!'."
   ]
  },
  {
   "cell_type": "code",
   "execution_count": null,
   "metadata": {
    "cellView": "form",
    "colab": {
     "base_uri": "https://localhost:8080/"
    },
    "id": "2G97ZX3YpW7E",
    "outputId": "bfa4f5f7-7a40-4820-be38-d141927e6aca"
   },
   "outputs": [],
   "source": [
    "# Print \"hi!\"\n",
    "import sys\n",
    "\n",
    "sys.stderr.write('This is an error message.\\n')\n",
    "print('hi!')"
   ]
  },
  {
   "attachments": {},
   "cell_type": "markdown",
   "metadata": {
    "id": "F7sadoRFCVR7"
   },
   "source": [
    "## 2. Create IPython images with the given \"one.png\" and \"two.png\".\n",
    "Use `from IPython.display import Image`"
   ]
  },
  {
   "cell_type": "code",
   "execution_count": null,
   "metadata": {},
   "outputs": [],
   "source": [
    "import numpy as np\n",
    "from PIL import Image\n",
    "from IPython.display import display\n",
    "\n",
    "# Create a 117x118 image with random pixel values\n",
    "arr = np.random.randint(0, 255, (117, 118), dtype=np.uint8)\n",
    "img = Image.fromarray(arr)\n",
    "img"
   ]
  },
  {
   "cell_type": "code",
   "execution_count": null,
   "metadata": {},
   "outputs": [],
   "source": [
    "from IPython.display import Image\n",
    "\n",
    "Image(filename='two.png')"
   ]
  },
  {
   "cell_type": "markdown",
   "metadata": {},
   "source": [
    "## 3. Run the following code block."
   ]
  },
  {
   "cell_type": "code",
   "execution_count": null,
   "metadata": {},
   "outputs": [],
   "source": [
    "import matplotlib.pyplot as plt\n",
    "\n",
    "x = [1, 4]\n",
    "y = [2, 3]\n",
    "\n",
    "# Plotting a line from two point (1, 2) to (4, 3)\n",
    "plt.plot(x, y, marker='o', color='blue')\n",
    "\n",
    "plt.title(\"Line Between Two Points (A and B)\")\n",
    "plt.grid(True)\n",
    "plt.axis('equal')\n",
    "# Show the plot\n",
    "plt.show()"
   ]
  }
 ],
 "metadata": {
  "colab": {
   "provenance": []
  },
  "kernelspec": {
   "display_name": "Python 3 (ipykernel)",
   "language": "python",
   "name": "python3"
  },
  "language_info": {
   "codemirror_mode": {
    "name": "ipython",
    "version": 3
   },
   "file_extension": ".py",
   "mimetype": "text/x-python",
   "name": "python",
   "nbconvert_exporter": "python",
   "pygments_lexer": "ipython3",
   "version": "3.11.9"
  }
 },
 "nbformat": 4,
 "nbformat_minor": 4
}
