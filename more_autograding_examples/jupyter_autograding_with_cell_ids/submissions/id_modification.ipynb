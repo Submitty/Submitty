{
 "cells": [
  {
   "cell_type": "markdown",
   "metadata": {},
   "source": [
    "## 1. Print 'hello world!'."
   ]
  },
  {
   "cell_type": "code",
   "execution_count": null,
   "metadata": {
    "grade_id": "hello_world_submitted"
   },
   "outputs": [],
   "source": [
    "print('hello world!')"
   ]
  },
  {
   "attachments": {},
   "cell_type": "markdown",
   "metadata": {
    "grade_id": "markdown_modified"
   },
   "source": [
    "## 2. Create IPython images with the given \"one.png\" and \"two.png\".\n",
    "Use `from IPython.display import Image`"
   ]
  },
  {
   "cell_type": "code",
   "execution_count": null,
   "metadata": {
    "grade_id": "one_submitted"
   },
   "outputs": [],
   "source": [
    "from IPython.display import Image\n",
    "Image(filename='one.png')"
   ]
  },
  {
   "cell_type": "code",
   "execution_count": null,
   "metadata": {
    "grade_id": "two_submitted"
   },
   "outputs": [],
   "source": [
    "from IPython.display import Image\n",
    "Image(filename='two.png')"
   ]
  },
  {
   "cell_type": "markdown",
   "metadata": {},
   "source": [
    "## 3. Run the following code block."
   ]
  },
  {
   "cell_type": "code",
   "execution_count": null,
   "metadata": {
    "grade_id_modified": "graph_submitted"
   },
   "outputs": [],
   "source": [
    "import matplotlib.pyplot as plt\n",
    "\n",
    "x = [1, 4]\n",
    "y = [2, 5]\n",
    "\n",
    "plt.plot(x, y, marker='o', color='blue')\n",
    "\n",
    "plt.title(\"Line Between Two Points (A and B)\")\n",
    "plt.grid(True)\n",
    "plt.axis('equal')\n",
    "plt.show()"
   ]
  }
 ],
 "metadata": {
  "kernelspec": {
   "display_name": "Python 3 (ipykernel)",
   "language": "python",
   "name": "python3"
  },
  "language_info": {
   "codemirror_mode": {
    "name": "ipython",
    "version": 3
   },
   "file_extension": ".py",
   "mimetype": "text/x-python",
   "name": "python",
   "nbconvert_exporter": "python",
   "pygments_lexer": "ipython3",
   "version": "3.11.9"
  }
 },
 "nbformat": 4,
 "nbformat_minor": 4
}
